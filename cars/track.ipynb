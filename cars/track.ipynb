{
 "cells": [
  {
   "cell_type": "code",
   "execution_count": null,
   "metadata": {},
   "outputs": [],
   "source": [
    "from cmath import rect, phase\n",
    "from math import ceil\n",
    "\n",
    "import numpy as np\n",
    "from numpy import pi\n",
    "\n",
    "sectors = 48\n",
    "radius = 5\n",
    "width = 3\n",
    "scale = radius / 5\n",
    "\n",
    "\n",
    "# np.random.seed(5)\n",
    "\n",
    "def get_partition(n, a, b=None):\n",
    "    if b is None:\n",
    "        b = a\n",
    "        a = 0\n",
    "    sample = np.random.rand(n)\n",
    "    return a + (b - a) * np.cumsum(sample / sample.sum())\n",
    "\n",
    "\n",
    "def generate_map(sectors, radius, width, scale):\n",
    "    \"\"\"\n",
    "    :param sectors: number of sectors in the map\n",
    "    :param radius: average distance between 0 and inner point of map\n",
    "    :param width: distance between inner and outer points of map\n",
    "    :param scale: scale of radius variation, as in np.random.normal(loc=radius, scale=scale, size=sectors)\n",
    "    :return: list of tuples (`inner_point`, `outer_point`) of length :param sectors:\n",
    "    \"\"\"\n",
    "    sector_angles = get_partition(sectors, -pi, pi)\n",
    "    sector_radii = np.random.normal(loc=radius, scale=scale, size=sectors)\n",
    "    sector_radii[sector_radii <= 0] = 1e-6\n",
    "    inner_points = [rect(r, phi) for phi, r in zip(sector_angles, sector_radii)]\n",
    "    outer_points = [rect(r, phi) for phi, r in zip(sector_angles, sector_radii + width)]\n",
    "    return list(zip(inner_points, outer_points))\n",
    "\n",
    "\n",
    "def plot_map(m, screen, scale=None, color=(0, 0, 0), width=2):\n",
    "    if not scale:\n",
    "        xmax, ymax = np.array([(abs(outer.real), abs(outer.imag)) for inner, outer in m]).max(axis=0)\n",
    "        scale = ceil(xmax) + ceil(ymax) * 1j\n",
    "    size = screen.get_width(), screen.get_height()\n",
    "    from cars.utils import to_px\n",
    "    points = np.array([[to_px(inner, scale, size), to_px(outer, scale, size)] for inner, outer in m])\n",
    "    import pygame\n",
    "    pygame.draw.polygon(screen, color, points[:, 0], width)\n",
    "    pygame.draw.polygon(screen, color, points[:, 1], width)\n",
    "\n",
    "    return scale"
   ]
  }
 ],
 "metadata": {
  "kernelspec": {
   "display_name": "Python 3",
   "language": "python",
   "name": "python3"
  },
  "language_info": {
   "codemirror_mode": {
    "name": "ipython",
    "version": 3
   },
   "file_extension": ".py",
   "mimetype": "text/x-python",
   "name": "python",
   "nbconvert_exporter": "python",
   "pygments_lexer": "ipython3",
   "version": "3.6.5"
  }
 },
 "nbformat": 4,
 "nbformat_minor": 2
}
