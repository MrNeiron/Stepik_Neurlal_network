{
 "cells": [
  {
   "cell_type": "code",
   "execution_count": null,
   "metadata": {},
   "outputs": [],
   "source": [
    "import numpy as np\n",
    "\n",
    "x_shape = tuple(map(int, input().split()))\n",
    "X = np.fromiter(map(int, input().split()), np.int).reshape(x_shape)\n",
    "y_shape = tuple(map(int, input().split()))\n",
    "Y = np.fromiter(map(int, input().split()), np.int).reshape(y_shape)"
   ]
  },
  {
   "cell_type": "code",
   "execution_count": null,
   "metadata": {},
   "outputs": [],
   "source": [
    "Y = Y.T;\n",
    "if(x_shape[1] == y_shape[1]):\n",
    "    XY = np.zeros(x_shape[0] * y_shape[0]);\n",
    "    k = 0;\n",
    "    for ix in range(len(X)):\n",
    "        for jy in range(len(Y[0])):\n",
    "            for n in range (len(X[ix])):\n",
    "                XY[k] += int(X[ix][n] * Y[n][jy]);\n",
    "            k += 1;\n",
    "    print (np.fromiter(map(int, XY), np.int).reshape(x_shape[0], y_shape[0]));\n",
    "else:\n",
    "    print(\"matrix shapes do not match\");"
   ]
  }
 ],
 "metadata": {
  "kernelspec": {
   "display_name": "Python 3",
   "language": "python",
   "name": "python3"
  },
  "language_info": {
   "codemirror_mode": {
    "name": "ipython",
    "version": 3
   },
   "file_extension": ".py",
   "mimetype": "text/x-python",
   "name": "python",
   "nbconvert_exporter": "python",
   "pygments_lexer": "ipython3",
   "version": "3.6.5"
  }
 },
 "nbformat": 4,
 "nbformat_minor": 2
}
