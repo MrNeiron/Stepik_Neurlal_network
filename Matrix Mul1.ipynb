{
 "cells": [
  {
   "cell_type": "code",
   "execution_count": 1,
   "metadata": {},
   "outputs": [
    {
     "name": "stdout",
     "output_type": "stream",
     "text": [
      "3 2\n",
      "1 1 1 10 10 1\n",
      "3 1\n",
      "10 7 12\n"
     ]
    }
   ],
   "source": [
    "import numpy as np\n",
    "\n",
    "x_shape = tuple(map(int, input().split()))\n",
    "X = np.fromiter(map(int, input().split()), np.int).reshape(x_shape)\n",
    "y_shape = tuple(map(int, input().split()))\n",
    "Y = np.fromiter(map(int, input().split()), np.int).reshape(y_shape)"
   ]
  },
  {
   "cell_type": "code",
   "execution_count": 2,
   "metadata": {},
   "outputs": [
    {
     "name": "stdout",
     "output_type": "stream",
     "text": [
      "[[ 1  1]\n",
      " [ 1 10]\n",
      " [10  1]]\n"
     ]
    }
   ],
   "source": []
  },
  {
   "cell_type": "code",
   "execution_count": 118,
   "metadata": {},
   "outputs": [
    {
     "name": "stdout",
     "output_type": "stream",
     "text": [
      "[[ 82  96 108  78]\n",
      " [ 96 114 108  66]]\n"
     ]
    }
   ],
   "source": [
    "if (x_shape[1] == y_shape[1]):\n",
    "    print (X.dot(Y.T));\n",
    "else:\n",
    "    print (\"matrix shapes do not match\");"
   ]
  },
  {
   "cell_type": "code",
   "execution_count": 19,
   "metadata": {},
   "outputs": [
    {
     "name": "stdout",
     "output_type": "stream",
     "text": [
      "[[5 5 3 1]\n",
      " [5 2 3 4]\n",
      " [1 6 9 6]]\n"
     ]
    }
   ],
   "source": []
  },
  {
   "cell_type": "code",
   "execution_count": null,
   "metadata": {},
   "outputs": [],
   "source": []
  }
 ],
 "metadata": {
  "kernelspec": {
   "display_name": "Python 3",
   "language": "python",
   "name": "python3"
  },
  "language_info": {
   "codemirror_mode": {
    "name": "ipython",
    "version": 3
   },
   "file_extension": ".py",
   "mimetype": "text/x-python",
   "name": "python",
   "nbconvert_exporter": "python",
   "pygments_lexer": "ipython3",
   "version": "3.6.5"
  }
 },
 "nbformat": 4,
 "nbformat_minor": 2
}
