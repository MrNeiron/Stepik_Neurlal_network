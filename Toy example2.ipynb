{
 "cells": [
  {
   "cell_type": "code",
   "execution_count": 80,
   "metadata": {},
   "outputs": [
    {
     "name": "stdout",
     "output_type": "stream",
     "text": [
      "-3.655804285065569 -0.21639550236913563 0.07373059817548194 4.412450576912785 -25.468448784099138 7.143201550746638 -1.3010876776489935 "
     ]
    }
   ],
   "source": [
    "import urllib\n",
    "from urllib import request\n",
    "import numpy as np\n",
    "\n",
    "fname = \"https://stepic.org/media/attachments/lesson/16462/boston_houses.csv\"\n",
    "f = urllib.request.urlopen(fname)\n",
    "data = np.loadtxt(f, delimiter =',', skiprows = 1)\n",
    "\n",
    "Y = np.copy(data[:,0:1])\n",
    "data[:,0:1] = 1;\n",
    "answer = np.linalg.inv(data.T.dot(data)).dot(data.T).dot(Y)\n",
    "for i in range(0, len(answer.T[0])):\n",
    "    print(answer[i][0], end = ' ')"
   ]
  },
  {
   "cell_type": "code",
   "execution_count": null,
   "metadata": {},
   "outputs": [],
   "source": []
  }
 ],
 "metadata": {
  "kernelspec": {
   "display_name": "Python 3",
   "language": "python",
   "name": "python3"
  },
  "language_info": {
   "codemirror_mode": {
    "name": "ipython",
    "version": 3
   },
   "file_extension": ".py",
   "mimetype": "text/x-python",
   "name": "python",
   "nbconvert_exporter": "python",
   "pygments_lexer": "ipython3",
   "version": "3.6.5"
  }
 },
 "nbformat": 4,
 "nbformat_minor": 2
}
