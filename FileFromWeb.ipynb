{
 "cells": [
  {
   "cell_type": "code",
   "execution_count": 38,
   "metadata": {},
   "outputs": [
    {
     "name": "stdout",
     "output_type": "stream",
     "text": [
      "[[2.4000e+01 6.3200e-03 1.8000e+01 ... 5.3800e-01 6.5750e+00 4.0900e+00]\n",
      " [2.1600e+01 2.7310e-02 0.0000e+00 ... 4.6900e-01 6.4210e+00 4.9671e+00]\n",
      " [3.4700e+01 2.7290e-02 0.0000e+00 ... 4.6900e-01 7.1850e+00 4.9671e+00]\n",
      " ...\n",
      " [2.3900e+01 6.0760e-02 0.0000e+00 ... 5.7300e-01 6.9760e+00 2.1675e+00]\n",
      " [2.2000e+01 1.0959e-01 0.0000e+00 ... 5.7300e-01 6.7940e+00 2.3889e+00]\n",
      " [1.1900e+01 4.7410e-02 0.0000e+00 ... 5.7300e-01 6.0300e+00 2.5050e+00]] \n",
      "\n",
      "[22.53280632  3.61352356 11.36363636  0.06916996  0.55469506  6.28463439\n",
      "  3.79504269]\n"
     ]
    }
   ],
   "source": [
    "from urllib.request import urlopen\n",
    "import numpy as np\n",
    "\n",
    "\n",
    "f = urlopen(\"https://stepic.org/media/attachments/lesson/16462/boston_houses.csv\")\n",
    "mat = np.loadtxt(f, skiprows = 1, delimiter = \",\")\n",
    "print(mat, \"\\n\")\n",
    "print(mat.mean(axis = 0))\n",
    "\n",
    "\n",
    "\n"
   ]
  },
  {
   "cell_type": "code",
   "execution_count": null,
   "metadata": {},
   "outputs": [],
   "source": [
    "\n"
   ]
  },
  {
   "cell_type": "code",
   "execution_count": null,
   "metadata": {},
   "outputs": [],
   "source": []
  },
  {
   "cell_type": "code",
   "execution_count": null,
   "metadata": {},
   "outputs": [],
   "source": []
  }
 ],
 "metadata": {
  "kernelspec": {
   "display_name": "Python 3",
   "language": "python",
   "name": "python3"
  },
  "language_info": {
   "codemirror_mode": {
    "name": "ipython",
    "version": 3
   },
   "file_extension": ".py",
   "mimetype": "text/x-python",
   "name": "python",
   "nbconvert_exporter": "python",
   "pygments_lexer": "ipython3",
   "version": "3.6.5"
  }
 },
 "nbformat": 4,
 "nbformat_minor": 2
}
